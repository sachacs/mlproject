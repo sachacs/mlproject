{
 "cells": [
  {
   "cell_type": "markdown",
   "source": [
    "End to End ML Project\n",
    "Set up Project with Github\n",
    "1. Data Ingestion\n",
    "2. Data Transformation\n",
    "3. Model Training\n",
    "4. Model Evaluation\n",
    "5. Model Deployment\n",
    "\n",
    "CI/CD Pipelines - Github Actions\n",
    "Deployment - AWS\n",
    "\n",
    "Agenda\n",
    "\n",
    "1- Set up Github Repo\n",
    "a) new environment\n",
    "b) mini project structure - setup.py\n",
    "c)requirements.txt\n",
    "\n",
    "2- Src folder and build the package"
   ],
   "metadata": {
    "collapsed": false
   },
   "id": "7f6e02870f1c9b2b"
  },
  {
   "cell_type": "code",
   "execution_count": null,
   "outputs": [],
   "source": [],
   "metadata": {
    "collapsed": false
   },
   "id": "df7463e4a106c563"
  }
 ],
 "metadata": {
  "kernelspec": {
   "display_name": "Python 3",
   "language": "python",
   "name": "python3"
  },
  "language_info": {
   "codemirror_mode": {
    "name": "ipython",
    "version": 2
   },
   "file_extension": ".py",
   "mimetype": "text/x-python",
   "name": "python",
   "nbconvert_exporter": "python",
   "pygments_lexer": "ipython2",
   "version": "2.7.6"
  }
 },
 "nbformat": 4,
 "nbformat_minor": 5
}
